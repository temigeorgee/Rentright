{
 "cells": [
  {
   "cell_type": "code",
   "execution_count": 57,
   "metadata": {},
   "outputs": [],
   "source": [
    "import pandas as pd\n",
    "import numpy as np\n",
    "import seaborn as sns\n",
    "import matplotlib.pyplot as plt"
   ]
  },
  {
   "cell_type": "code",
   "execution_count": 58,
   "metadata": {
    "scrolled": false
   },
   "outputs": [
    {
     "data": {
      "text/html": [
       "<div>\n",
       "<style scoped>\n",
       "    .dataframe tbody tr th:only-of-type {\n",
       "        vertical-align: middle;\n",
       "    }\n",
       "\n",
       "    .dataframe tbody tr th {\n",
       "        vertical-align: top;\n",
       "    }\n",
       "\n",
       "    .dataframe thead th {\n",
       "        text-align: right;\n",
       "    }\n",
       "</style>\n",
       "<table border=\"1\" class=\"dataframe\">\n",
       "  <thead>\n",
       "    <tr style=\"text-align: right;\">\n",
       "      <th></th>\n",
       "      <th>type</th>\n",
       "      <th>area</th>\n",
       "      <th>bed</th>\n",
       "      <th>bath</th>\n",
       "      <th>toilet</th>\n",
       "      <th>price</th>\n",
       "    </tr>\n",
       "  </thead>\n",
       "  <tbody>\n",
       "    <tr>\n",
       "      <th>0</th>\n",
       "      <td>flat / apartment</td>\n",
       "      <td>Maryland</td>\n",
       "      <td>2</td>\n",
       "      <td>2</td>\n",
       "      <td>2</td>\n",
       "      <td>1000000</td>\n",
       "    </tr>\n",
       "    <tr>\n",
       "      <th>1</th>\n",
       "      <td>detached duplex</td>\n",
       "      <td>Lekki</td>\n",
       "      <td>5</td>\n",
       "      <td>5</td>\n",
       "      <td>6</td>\n",
       "      <td>4000000</td>\n",
       "    </tr>\n",
       "    <tr>\n",
       "      <th>2</th>\n",
       "      <td>detached duplex</td>\n",
       "      <td>Lekki</td>\n",
       "      <td>4</td>\n",
       "      <td>4</td>\n",
       "      <td>5</td>\n",
       "      <td>3500000</td>\n",
       "    </tr>\n",
       "    <tr>\n",
       "      <th>3</th>\n",
       "      <td>terraced duplex</td>\n",
       "      <td>Ikeja</td>\n",
       "      <td>4</td>\n",
       "      <td>4</td>\n",
       "      <td>5</td>\n",
       "      <td>5500000</td>\n",
       "    </tr>\n",
       "    <tr>\n",
       "      <th>4</th>\n",
       "      <td>semi detached duplex</td>\n",
       "      <td>Lekki</td>\n",
       "      <td>4</td>\n",
       "      <td>4</td>\n",
       "      <td>5</td>\n",
       "      <td>4000000</td>\n",
       "    </tr>\n",
       "  </tbody>\n",
       "</table>\n",
       "</div>"
      ],
      "text/plain": [
       "                   type      area  bed  bath  toilet    price\n",
       "0      flat / apartment  Maryland    2     2       2  1000000\n",
       "1       detached duplex     Lekki    5     5       6  4000000\n",
       "2       detached duplex     Lekki    4     4       5  3500000\n",
       "3       terraced duplex     Ikeja    4     4       5  5500000\n",
       "4  semi detached duplex     Lekki    4     4       5  4000000"
      ]
     },
     "execution_count": 58,
     "metadata": {},
     "output_type": "execute_result"
    }
   ],
   "source": [
    "data = pd.read_csv(\"rent_right_data.csv\")\n",
    "data.head()"
   ]
  },
  {
   "cell_type": "code",
   "execution_count": 59,
   "metadata": {},
   "outputs": [
    {
     "name": "stdout",
     "output_type": "stream",
     "text": [
      "<class 'pandas.core.frame.DataFrame'>\n",
      "RangeIndex: 731 entries, 0 to 730\n",
      "Data columns (total 6 columns):\n",
      " #   Column  Non-Null Count  Dtype \n",
      "---  ------  --------------  ----- \n",
      " 0   type    731 non-null    object\n",
      " 1   area    731 non-null    object\n",
      " 2   bed     731 non-null    int64 \n",
      " 3   bath    731 non-null    int64 \n",
      " 4   toilet  731 non-null    int64 \n",
      " 5   price   731 non-null    int64 \n",
      "dtypes: int64(4), object(2)\n",
      "memory usage: 34.4+ KB\n"
     ]
    }
   ],
   "source": [
    "data.info()"
   ]
  },
  {
   "cell_type": "code",
   "execution_count": 60,
   "metadata": {},
   "outputs": [
    {
     "data": {
      "text/html": [
       "<div>\n",
       "<style scoped>\n",
       "    .dataframe tbody tr th:only-of-type {\n",
       "        vertical-align: middle;\n",
       "    }\n",
       "\n",
       "    .dataframe tbody tr th {\n",
       "        vertical-align: top;\n",
       "    }\n",
       "\n",
       "    .dataframe thead th {\n",
       "        text-align: right;\n",
       "    }\n",
       "</style>\n",
       "<table border=\"1\" class=\"dataframe\">\n",
       "  <thead>\n",
       "    <tr style=\"text-align: right;\">\n",
       "      <th></th>\n",
       "      <th>bed</th>\n",
       "      <th>bath</th>\n",
       "      <th>toilet</th>\n",
       "      <th>price</th>\n",
       "    </tr>\n",
       "  </thead>\n",
       "  <tbody>\n",
       "    <tr>\n",
       "      <th>count</th>\n",
       "      <td>731.000000</td>\n",
       "      <td>731.000000</td>\n",
       "      <td>731.000000</td>\n",
       "      <td>7.310000e+02</td>\n",
       "    </tr>\n",
       "    <tr>\n",
       "      <th>mean</th>\n",
       "      <td>3.233926</td>\n",
       "      <td>3.272230</td>\n",
       "      <td>4.030096</td>\n",
       "      <td>8.701933e+06</td>\n",
       "    </tr>\n",
       "    <tr>\n",
       "      <th>std</th>\n",
       "      <td>1.016978</td>\n",
       "      <td>1.047388</td>\n",
       "      <td>1.197794</td>\n",
       "      <td>1.510336e+07</td>\n",
       "    </tr>\n",
       "    <tr>\n",
       "      <th>min</th>\n",
       "      <td>1.000000</td>\n",
       "      <td>1.000000</td>\n",
       "      <td>1.000000</td>\n",
       "      <td>2.500000e+04</td>\n",
       "    </tr>\n",
       "    <tr>\n",
       "      <th>25%</th>\n",
       "      <td>3.000000</td>\n",
       "      <td>3.000000</td>\n",
       "      <td>3.000000</td>\n",
       "      <td>3.000000e+06</td>\n",
       "    </tr>\n",
       "    <tr>\n",
       "      <th>50%</th>\n",
       "      <td>3.000000</td>\n",
       "      <td>3.000000</td>\n",
       "      <td>4.000000</td>\n",
       "      <td>6.000000e+06</td>\n",
       "    </tr>\n",
       "    <tr>\n",
       "      <th>75%</th>\n",
       "      <td>4.000000</td>\n",
       "      <td>4.000000</td>\n",
       "      <td>5.000000</td>\n",
       "      <td>1.000000e+07</td>\n",
       "    </tr>\n",
       "    <tr>\n",
       "      <th>max</th>\n",
       "      <td>7.000000</td>\n",
       "      <td>7.000000</td>\n",
       "      <td>8.000000</td>\n",
       "      <td>2.200000e+08</td>\n",
       "    </tr>\n",
       "  </tbody>\n",
       "</table>\n",
       "</div>"
      ],
      "text/plain": [
       "              bed        bath      toilet         price\n",
       "count  731.000000  731.000000  731.000000  7.310000e+02\n",
       "mean     3.233926    3.272230    4.030096  8.701933e+06\n",
       "std      1.016978    1.047388    1.197794  1.510336e+07\n",
       "min      1.000000    1.000000    1.000000  2.500000e+04\n",
       "25%      3.000000    3.000000    3.000000  3.000000e+06\n",
       "50%      3.000000    3.000000    4.000000  6.000000e+06\n",
       "75%      4.000000    4.000000    5.000000  1.000000e+07\n",
       "max      7.000000    7.000000    8.000000  2.200000e+08"
      ]
     },
     "execution_count": 60,
     "metadata": {},
     "output_type": "execute_result"
    }
   ],
   "source": [
    "data.describe()"
   ]
  },
  {
   "cell_type": "code",
   "execution_count": 61,
   "metadata": {},
   "outputs": [
    {
     "data": {
      "text/plain": [
       "(731, 6)"
      ]
     },
     "execution_count": 61,
     "metadata": {},
     "output_type": "execute_result"
    }
   ],
   "source": [
    "data.shape"
   ]
  },
  {
   "cell_type": "code",
   "execution_count": 62,
   "metadata": {},
   "outputs": [
    {
     "data": {
      "text/plain": [
       "type      0\n",
       "area      0\n",
       "bed       0\n",
       "bath      0\n",
       "toilet    0\n",
       "price     0\n",
       "dtype: int64"
      ]
     },
     "execution_count": 62,
     "metadata": {},
     "output_type": "execute_result"
    }
   ],
   "source": [
    "# Check if there are any null values\n",
    "data.isnull().sum()"
   ]
  },
  {
   "cell_type": "code",
   "execution_count": 63,
   "metadata": {},
   "outputs": [
    {
     "data": {
      "text/plain": [
       "<AxesSubplot:>"
      ]
     },
     "execution_count": 63,
     "metadata": {},
     "output_type": "execute_result"
    },
    {
     "data": {
      "image/png": "[encoded data removed]",
      "text/plain": [
       "<Figure size 864x576 with 2 Axes>"
      ]
     },
     "metadata": {
      "needs_background": "light"
     },
     "output_type": "display_data"
    }
   ],
   "source": [
    "#VISUALIZATION\n",
    "corr = data.corr()\n",
    "fig, ax = plt.subplots(figsize=(12,8))\n",
    "sns.heatmap(corr, annot=True,  linewidths=.6, ax = ax)"
   ]
  },
  {
   "cell_type": "code",
   "execution_count": 64,
   "metadata": {},
   "outputs": [
    {
     "data": {
      "image/png": "[encoded data removed]",
      "text/plain": [
       "<Figure size 720x720 with 20 Axes>"
      ]
     },
     "metadata": {
      "needs_background": "light"
     },
     "output_type": "display_data"
    }
   ],
   "source": [
    "%matplotlib inline\n",
    "\n",
    "# Calculate and show pairplot\n",
    "sns.pairplot(data, height=2.5)\n",
    "plt.tight_layout()"
   ]
  },
  {
   "cell_type": "code",
   "execution_count": 65,
   "metadata": {},
   "outputs": [
    {
     "data": {
      "image/png": "[encoded data removed]",
      "text/plain": [
       "<Figure size 432x288 with 1 Axes>"
      ]
     },
     "metadata": {
      "needs_background": "light"
     },
     "output_type": "display_data"
    }
   ],
   "source": [
    "# Visualizing house prices\n",
    "plt.hist(data['price'])\n",
    "plt.show()"
   ]
  },
  {
   "cell_type": "code",
   "execution_count": 66,
   "metadata": {},
   "outputs": [
    {
     "name": "stderr",
     "output_type": "stream",
     "text": [
      "C:\\Users\\User\\anaconda3\\envs\\Deeplearning\\lib\\site-packages\\seaborn\\_decorators.py:36: FutureWarning: Pass the following variable as a keyword arg: x. From version 0.12, the only valid positional argument will be `data`, and passing other arguments without an explicit keyword will result in an error or misinterpretation.\n",
      "  warnings.warn(\n",
      "C:\\Users\\User\\anaconda3\\envs\\Deeplearning\\lib\\site-packages\\seaborn\\_decorators.py:36: FutureWarning: Pass the following variable as a keyword arg: x. From version 0.12, the only valid positional argument will be `data`, and passing other arguments without an explicit keyword will result in an error or misinterpretation.\n",
      "  warnings.warn(\n",
      "C:\\Users\\User\\anaconda3\\envs\\Deeplearning\\lib\\site-packages\\seaborn\\_decorators.py:36: FutureWarning: Pass the following variable as a keyword arg: x. From version 0.12, the only valid positional argument will be `data`, and passing other arguments without an explicit keyword will result in an error or misinterpretation.\n",
      "  warnings.warn(\n"
     ]
    },
    {
     "data": {
      "text/plain": [
       "<AxesSubplot:xlabel='toilet', ylabel='count'>"
      ]
     },
     "execution_count": 66,
     "metadata": {},
     "output_type": "execute_result"
    },
    {
     "data": {
      "image/png": "[encoded data removed]",
      "text/plain": [
       "<Figure size 1080x504 with 3 Axes>"
      ]
     },
     "metadata": {
      "needs_background": "light"
     },
     "output_type": "display_data"
    }
   ],
   "source": [
    "# Visualizing bedroom, bathroom, toilet &Parking space\n",
    "\n",
    "fig = plt.figure(figsize=(15,7))\n",
    "fig.add_subplot(2,2,1)\n",
    "sns.countplot(data['bed'])\n",
    "fig.add_subplot(2,2,2)\n",
    "sns.countplot(data['bath'])\n",
    "fig.add_subplot(2,2,3)\n",
    "sns.countplot(data['toilet'])\n"
   ]
  },
  {
   "cell_type": "code",
   "execution_count": 67,
   "metadata": {},
   "outputs": [
    {
     "name": "stderr",
     "output_type": "stream",
     "text": [
      "C:\\Users\\User\\anaconda3\\envs\\Deeplearning\\lib\\site-packages\\seaborn\\_decorators.py:36: FutureWarning: Pass the following variables as keyword args: x, y. From version 0.12, the only valid positional argument will be `data`, and passing other arguments without an explicit keyword will result in an error or misinterpretation.\n",
      "  warnings.warn(\n",
      "C:\\Users\\User\\anaconda3\\envs\\Deeplearning\\lib\\site-packages\\seaborn\\_decorators.py:36: FutureWarning: Pass the following variables as keyword args: x, y. From version 0.12, the only valid positional argument will be `data`, and passing other arguments without an explicit keyword will result in an error or misinterpretation.\n",
      "  warnings.warn(\n",
      "C:\\Users\\User\\anaconda3\\envs\\Deeplearning\\lib\\site-packages\\seaborn\\_decorators.py:36: FutureWarning: Pass the following variables as keyword args: x, y. From version 0.12, the only valid positional argument will be `data`, and passing other arguments without an explicit keyword will result in an error or misinterpretation.\n",
      "  warnings.warn(\n"
     ]
    },
    {
     "data": {
      "text/plain": [
       "<AxesSubplot:xlabel='toilet', ylabel='price'>"
      ]
     },
     "execution_count": 67,
     "metadata": {},
     "output_type": "execute_result"
    },
    {
     "data": {
      "image/png": "[encoded data removed]",
      "text/plain": [
       "<Figure size 1152x360 with 3 Axes>"
      ]
     },
     "metadata": {
      "needs_background": "light"
     },
     "output_type": "display_data"
    }
   ],
   "source": [
    "#visualizing some features distribution vs. price\n",
    "\n",
    "fig = plt.figure(figsize=(16,5))\n",
    "fig.add_subplot(2,2,1)\n",
    "sns.scatterplot(data['bed'], data['price'])\n",
    "fig.add_subplot(2,2,2)\n",
    "sns.scatterplot(data['bath'],data['price'])\n",
    "fig.add_subplot(2,2,3)\n",
    "sns.scatterplot(data['toilet'],data['price'])\n",
    "\n",
    "\n",
    "\n",
    "                                         \n"
   ]
  },
  {
   "cell_type": "markdown",
   "metadata": {},
   "source": [
    "## Dataset Preparation (Splitting and Scaling)\n",
    "\n",
    "Data is divided into the Train set and Test set. We use the Train set to make the algorithm learn the data’s behavior and then check the accuracy of our model on the Test set. Features (X): The columns that are inserted into our model will be used to make predictions. Prediction (Y): Target variable that will be predicted by the features\n"
   ]
  },
  {
   "cell_type": "code",
   "execution_count": 68,
   "metadata": {},
   "outputs": [],
   "source": [
    "import keras\n",
    "import tensorflow as tf\n",
    "from tensorflow.keras.models import Sequential\n",
    "from tensorflow.keras.layers import Dense\n",
    "from tensorflow.keras.wrappers.scikit_learn import KerasRegressor\n",
    "from sklearn.model_selection import cross_val_score\n",
    "from sklearn.model_selection import KFold\n",
    "from sklearn.preprocessing import StandardScaler\n",
    "from sklearn.pipeline import Pipeline"
   ]
  },
  {
   "cell_type": "code",
   "execution_count": 69,
   "metadata": {},
   "outputs": [
    {
     "data": {
      "text/html": [
       "<div>\n",
       "<style scoped>\n",
       "    .dataframe tbody tr th:only-of-type {\n",
       "        vertical-align: middle;\n",
       "    }\n",
       "\n",
       "    .dataframe tbody tr th {\n",
       "        vertical-align: top;\n",
       "    }\n",
       "\n",
       "    .dataframe thead th {\n",
       "        text-align: right;\n",
       "    }\n",
       "</style>\n",
       "<table border=\"1\" class=\"dataframe\">\n",
       "  <thead>\n",
       "    <tr style=\"text-align: right;\">\n",
       "      <th></th>\n",
       "      <th>bed</th>\n",
       "      <th>bath</th>\n",
       "      <th>toilet</th>\n",
       "      <th>price</th>\n",
       "    </tr>\n",
       "  </thead>\n",
       "  <tbody>\n",
       "    <tr>\n",
       "      <th>0</th>\n",
       "      <td>2</td>\n",
       "      <td>2</td>\n",
       "      <td>2</td>\n",
       "      <td>1000000</td>\n",
       "    </tr>\n",
       "    <tr>\n",
       "      <th>1</th>\n",
       "      <td>5</td>\n",
       "      <td>5</td>\n",
       "      <td>6</td>\n",
       "      <td>4000000</td>\n",
       "    </tr>\n",
       "    <tr>\n",
       "      <th>2</th>\n",
       "      <td>4</td>\n",
       "      <td>4</td>\n",
       "      <td>5</td>\n",
       "      <td>3500000</td>\n",
       "    </tr>\n",
       "    <tr>\n",
       "      <th>3</th>\n",
       "      <td>4</td>\n",
       "      <td>4</td>\n",
       "      <td>5</td>\n",
       "      <td>5500000</td>\n",
       "    </tr>\n",
       "    <tr>\n",
       "      <th>4</th>\n",
       "      <td>4</td>\n",
       "      <td>4</td>\n",
       "      <td>5</td>\n",
       "      <td>4000000</td>\n",
       "    </tr>\n",
       "  </tbody>\n",
       "</table>\n",
       "</div>"
      ],
      "text/plain": [
       "   bed  bath  toilet    price\n",
       "0    2     2       2  1000000\n",
       "1    5     5       6  4000000\n",
       "2    4     4       5  3500000\n",
       "3    4     4       5  5500000\n",
       "4    4     4       5  4000000"
      ]
     },
     "execution_count": 69,
     "metadata": {},
     "output_type": "execute_result"
    }
   ],
   "source": [
    "data = pd.read_csv(\"rent_right_data.csv\")\n",
    "data = data.drop('type',axis=1)\n",
    "data = data.drop('area',axis=1)\n",
    "data.head(5)\n"
   ]
  },
  {
   "cell_type": "code",
   "execution_count": 79,
   "metadata": {},
   "outputs": [
    {
     "name": "stdout",
     "output_type": "stream",
     "text": [
      "     bed  bath  toilet     price\n",
      "0      2     2       2   1000000\n",
      "1      5     5       6   4000000\n",
      "2      4     4       5   3500000\n",
      "3      4     4       5   5500000\n",
      "4      4     4       5   4000000\n",
      "..   ...   ...     ...       ...\n",
      "726    5     4       4   3000000\n",
      "727    4     4       4  20000000\n",
      "728    3     3       4   2200000\n",
      "729    3     3       4   3700000\n",
      "730    2     2       2   6500000\n",
      "\n",
      "[731 rows x 4 columns]\n"
     ]
    }
   ],
   "source": [
    "print(data)"
   ]
  },
  {
   "cell_type": "code",
   "execution_count": 86,
   "metadata": {
    "scrolled": true
   },
   "outputs": [],
   "source": [
    "# split into input (X) and output (y) variables\n",
    "X = data.iloc[:,0:3].values\n",
    "y = data.iloc[:,3].values\n",
    "#splitting Train and Test \n",
    "from sklearn.model_selection import train_test_split\n",
    "X_train, X_test, y_train, y_test = train_test_split(X, Y, test_size=0.25, random_state=101)"
   ]
  },
  {
   "cell_type": "code",
   "execution_count": 90,
   "metadata": {},
   "outputs": [],
   "source": [
    "from sklearn.preprocessing import StandardScaler\n",
    "sc = StandardScaler()\n",
    "X_train = sc.fit_transform(X_train)\n",
    "X_test = sc.transform(X_test)"
   ]
  },
  {
   "cell_type": "code",
   "execution_count": 99,
   "metadata": {},
   "outputs": [],
   "source": [
    "    # create model\n",
    "    model = Sequential()\n",
    "    model.add(Dense(3, input_dim=3, kernel_initializer='normal', activation='relu'))\n",
    "    model.add(Dense(1, kernel_initializer='normal'))\n",
    "    # Compile model\n",
    "    model.compile(loss='mean_squared_error', optimizer='adam')"
   ]
  },
  {
   "cell_type": "code",
   "execution_count": 100,
   "metadata": {},
   "outputs": [
    {
     "name": "stdout",
     "output_type": "stream",
     "text": [
      "Epoch 1/50\n",
      "110/110 [==============================] - 0s 3ms/step - loss: 285186398879744.0000 - val_loss: 358433173798912.0000\n",
      "Epoch 2/50\n",
      "110/110 [==============================] - 0s 2ms/step - loss: 285186465988608.0000 - val_loss: 358433173798912.0000\n",
      "Epoch 3/50\n",
      "110/110 [==============================] - 0s 2ms/step - loss: 285186499543040.0000 - val_loss: 358433173798912.0000\n",
      "Epoch 4/50\n",
      "110/110 [==============================] - 0s 2ms/step - loss: 285186432434176.0000 - val_loss: 358433173798912.0000\n",
      "Epoch 5/50\n",
      "110/110 [==============================] - 0s 2ms/step - loss: 285186465988608.0000 - val_loss: 358433173798912.0000\n",
      "Epoch 6/50\n",
      "110/110 [==============================] - 0s 2ms/step - loss: 285186398879744.0000 - val_loss: 358433173798912.0000\n",
      "Epoch 7/50\n",
      "110/110 [==============================] - 0s 2ms/step - loss: 285186465988608.0000 - val_loss: 358433140244480.0000\n",
      "Epoch 8/50\n",
      "110/110 [==============================] - 0s 2ms/step - loss: 285186432434176.0000 - val_loss: 358433140244480.0000\n",
      "Epoch 9/50\n",
      "110/110 [==============================] - 0s 2ms/step - loss: 285186398879744.0000 - val_loss: 358433140244480.0000\n",
      "Epoch 10/50\n",
      "110/110 [==============================] - 0s 1ms/step - loss: 285186331770880.0000 - val_loss: 358433106690048.0000\n",
      "Epoch 11/50\n",
      "110/110 [==============================] - 0s 2ms/step - loss: 285186432434176.0000 - val_loss: 358433106690048.0000\n",
      "Epoch 12/50\n",
      "110/110 [==============================] - 0s 1ms/step - loss: 285186465988608.0000 - val_loss: 358433106690048.0000\n",
      "Epoch 13/50\n",
      "110/110 [==============================] - 0s 1ms/step - loss: 285186365325312.0000 - val_loss: 358433106690048.0000\n",
      "Epoch 14/50\n",
      "110/110 [==============================] - 0s 2ms/step - loss: 285186298216448.0000 - val_loss: 358433073135616.0000\n",
      "Epoch 15/50\n",
      "110/110 [==============================] - 0s 1ms/step - loss: 285186465988608.0000 - val_loss: 358433039581184.0000\n",
      "Epoch 16/50\n",
      "110/110 [==============================] - 0s 1ms/step - loss: 285186264662016.0000 - val_loss: 358433039581184.0000\n",
      "Epoch 17/50\n",
      "110/110 [==============================] - 0s 2ms/step - loss: 285186231107584.0000 - val_loss: 358433039581184.0000\n",
      "Epoch 18/50\n",
      "110/110 [==============================] - 0s 2ms/step - loss: 285186331770880.0000 - val_loss: 358433039581184.0000\n",
      "Epoch 19/50\n",
      "110/110 [==============================] - 0s 1ms/step - loss: 285186231107584.0000 - val_loss: 358433006026752.0000\n",
      "Epoch 20/50\n",
      "110/110 [==============================] - 0s 2ms/step - loss: 285186298216448.0000 - val_loss: 358433006026752.0000\n",
      "Epoch 21/50\n",
      "110/110 [==============================] - 0s 1ms/step - loss: 285186231107584.0000 - val_loss: 358433006026752.0000\n",
      "Epoch 22/50\n",
      "110/110 [==============================] - 0s 1ms/step - loss: 285186231107584.0000 - val_loss: 358432972472320.0000\n",
      "Epoch 23/50\n",
      "110/110 [==============================] - 0s 1ms/step - loss: 285186264662016.0000 - val_loss: 358432938917888.0000\n",
      "Epoch 24/50\n",
      "110/110 [==============================] - 0s 2ms/step - loss: 285186231107584.0000 - val_loss: 358432938917888.0000\n",
      "Epoch 25/50\n",
      "110/110 [==============================] - 0s 2ms/step - loss: 285186163998720.0000 - val_loss: 358432938917888.0000\n",
      "Epoch 26/50\n",
      "110/110 [==============================] - 0s 2ms/step - loss: 285186130444288.0000 - val_loss: 358432871809024.0000\n",
      "Epoch 27/50\n",
      "110/110 [==============================] - 0s 1ms/step - loss: 285186063335424.0000 - val_loss: 358432871809024.0000\n",
      "Epoch 28/50\n",
      "110/110 [==============================] - 0s 2ms/step - loss: 285186096889856.0000 - val_loss: 358432871809024.0000\n",
      "Epoch 29/50\n",
      "110/110 [==============================] - 0s 2ms/step - loss: 285186096889856.0000 - val_loss: 358432871809024.0000\n",
      "Epoch 30/50\n",
      "110/110 [==============================] - 0s 2ms/step - loss: 285186130444288.0000 - val_loss: 358432838254592.0000\n",
      "Epoch 31/50\n",
      "110/110 [==============================] - 0s 2ms/step - loss: 285186063335424.0000 - val_loss: 358432838254592.0000\n",
      "Epoch 32/50\n",
      "110/110 [==============================] - 0s 2ms/step - loss: 285185962672128.0000 - val_loss: 358432771145728.0000\n",
      "Epoch 33/50\n",
      "110/110 [==============================] - 0s 2ms/step - loss: 285186096889856.0000 - val_loss: 358432771145728.0000\n",
      "Epoch 34/50\n",
      "110/110 [==============================] - 0s 1ms/step - loss: 285185929117696.0000 - val_loss: 358432737591296.0000\n",
      "Epoch 35/50\n",
      "110/110 [==============================] - 0s 2ms/step - loss: 285185996226560.0000 - val_loss: 358432737591296.0000\n",
      "Epoch 36/50\n",
      "110/110 [==============================] - 0s 2ms/step - loss: 285185962672128.0000 - val_loss: 358432636928000.0000\n",
      "Epoch 37/50\n",
      "110/110 [==============================] - 0s 2ms/step - loss: 285185929117696.0000 - val_loss: 358432636928000.0000\n",
      "Epoch 38/50\n",
      "110/110 [==============================] - 0s 2ms/step - loss: 285185962672128.0000 - val_loss: 358432636928000.0000\n",
      "Epoch 39/50\n",
      "110/110 [==============================] - 0s 2ms/step - loss: 285185862008832.0000 - val_loss: 358432569819136.0000\n",
      "Epoch 40/50\n",
      "110/110 [==============================] - 0s 2ms/step - loss: 285185862008832.0000 - val_loss: 358432569819136.0000\n",
      "Epoch 41/50\n",
      "110/110 [==============================] - 0s 2ms/step - loss: 285185794899968.0000 - val_loss: 358432536264704.0000\n",
      "Epoch 42/50\n",
      "110/110 [==============================] - 0s 2ms/step - loss: 285185761345536.0000 - val_loss: 358432502710272.0000\n",
      "Epoch 43/50\n",
      "110/110 [==============================] - 0s 3ms/step - loss: 285185794899968.0000 - val_loss: 358432469155840.0000\n",
      "Epoch 44/50\n",
      "110/110 [==============================] - 0s 2ms/step - loss: 285185761345536.0000 - val_loss: 358432469155840.0000\n",
      "Epoch 45/50\n",
      "110/110 [==============================] - 0s 2ms/step - loss: 285185694236672.0000 - val_loss: 358432435601408.0000\n",
      "Epoch 46/50\n",
      "110/110 [==============================] - 0s 2ms/step - loss: 285185761345536.0000 - val_loss: 358432402046976.0000\n",
      "Epoch 47/50\n",
      "110/110 [==============================] - 0s 1ms/step - loss: 285185660682240.0000 - val_loss: 358432301383680.0000\n",
      "Epoch 48/50\n",
      "110/110 [==============================] - 0s 1ms/step - loss: 285185660682240.0000 - val_loss: 358432301383680.0000\n",
      "Epoch 49/50\n",
      "110/110 [==============================] - 0s 2ms/step - loss: 285185627127808.0000 - val_loss: 358432301383680.0000\n",
      "Epoch 50/50\n",
      "110/110 [==============================] - 0s 2ms/step - loss: 285185593573376.0000 - val_loss: 358432267829248.0000\n",
      "Model: \"sequential_52\"\n",
      "_________________________________________________________________\n",
      "Layer (type)                 Output Shape              Param #   \n",
      "=================================================================\n",
      "dense_104 (Dense)            (None, 3)                 12        \n",
      "_________________________________________________________________\n",
      "dense_105 (Dense)            (None, 1)                 4         \n",
      "=================================================================\n",
      "Total params: 16\n",
      "Trainable params: 16\n",
      "Non-trainable params: 0\n",
      "_________________________________________________________________\n"
     ]
    }
   ],
   "source": [
    "model.fit(x=X_train,y=y_train,\n",
    "          validation_data=(X_test,y_test),\n",
    "          batch_size=5,epochs=50)\n",
    "model.summary()"
   ]
  },
  {
   "cell_type": "code",
   "execution_count": 101,
   "metadata": {},
   "outputs": [
    {
     "name": "stdout",
     "output_type": "stream",
     "text": [
      "Standardized: -303743036188262.38 (239639321184054.34) MSE\n"
     ]
    }
   ],
   "source": [
    "# evaluate model with Standardized data\n",
    "estimators = []\n",
    "estimators.append(('standardize', StandardScaler()))\n",
    "estimators.append(('mlp', KerasRegressor(build_fn=baseline_model, epochs=50, batch_size=5, verbose=0)))\n",
    "pipeline = Pipeline(estimators)\n",
    "kfold = KFold(n_splits=10)\n",
    "results = cross_val_score(pipeline, X, y, cv=kfold)\n",
    "print(\"Standardized: %.2f (%.2f) MSE\" % (results.mean(), results.std()))"
   ]
  },
  {
   "cell_type": "code",
   "execution_count": 102,
   "metadata": {},
   "outputs": [
    {
     "name": "stdout",
     "output_type": "stream",
     "text": [
      "MAE: 9987980.976002583\n",
      "MSE: 358432295340186.25\n",
      "RMSE: 18932308.24120995\n",
      "VarScore: -2.5900089581920582e-06\n"
     ]
    },
    {
     "data": {
      "text/plain": [
       "[<matplotlib.lines.Line2D at 0x24270bbedc0>]"
      ]
     },
     "execution_count": 102,
     "metadata": {},
     "output_type": "execute_result"
    },
    {
     "data": {
      "image/png": "[encoded data removed]",
      "text/plain": [
       "<Figure size 720x360 with 1 Axes>"
      ]
     },
     "metadata": {
      "needs_background": "light"
     },
     "output_type": "display_data"
    }
   ],
   "source": [
    "y_pred = model.predict(X_test)\n",
    "from sklearn import metrics\n",
    "print('MAE:', metrics.mean_absolute_error(y_test, y_pred))  \n",
    "print('MSE:', metrics.mean_squared_error(y_test, y_pred))  \n",
    "print('RMSE:', np.sqrt(metrics.mean_squared_error(y_test, y_pred)))\n",
    "print('VarScore:',metrics.explained_variance_score(y_test,y_pred))\n",
    "# Visualizing Our predictions\n",
    "fig = plt.figure(figsize=(10,5))\n",
    "plt.scatter(y_test,y_pred)\n",
    "# Perfect predictions\n",
    "plt.plot(y_test,y_test,'r')"
   ]
  },
  {
   "cell_type": "code",
   "execution_count": 115,
   "metadata": {},
   "outputs": [],
   "source": [
    "# serialize model to JSON\n",
    "model_json = model.to_json()\n",
    "with open(\"model.json\", 'w') as json_file:\n",
    "    json_file.write(model_json)\n"
   ]
  },
  {
   "cell_type": "code",
   "execution_count": 116,
   "metadata": {},
   "outputs": [],
   "source": [
    "# Saving weights of the model to HDF5\n",
    "model.save_weights('model.h5')"
   ]
  },
  {
   "cell_type": "code",
   "execution_count": null,
   "metadata": {},
   "outputs": [],
   "source": []
  }
 ],
 "metadata": {
  "kernelspec": {
   "display_name": "Python 3",
   "language": "python",
   "name": "python3"
  },
  "language_info": {
   "codemirror_mode": {
    "name": "ipython",
    "version": 3
   },
   "file_extension": ".py",
   "mimetype": "text/x-python",
   "name": "python",
   "nbconvert_exporter": "python",
   "pygments_lexer": "ipython3",
   "version": "3.7.6"
  }
 },
 "nbformat": 4,
 "nbformat_minor": 4
}
